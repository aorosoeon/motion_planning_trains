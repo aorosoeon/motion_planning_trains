{
 "cells": [
  {
   "cell_type": "code",
   "execution_count": 8,
   "metadata": {},
   "outputs": [],
   "source": [
    "import geopandas as gpd\n",
    "import pandas as pd\n",
    "import rasterio\n",
    "import matplotlib.pyplot as plt\n",
    "import numpy as np\n",
    "from sqlalchemy import create_engine\n",
    "import psycopg2\n",
    "\n",
    "%reload_ext autoreload\n",
    "%autoreload 2\n",
    "%matplotlib inline"
   ]
  },
  {
   "cell_type": "markdown",
   "metadata": {},
   "source": [
    "Looking at PostGIS database, table elevation has 55014 rows, each rast value is encoded 100x100 pixels image"
   ]
  },
  {
   "cell_type": "markdown",
   "metadata": {},
   "source": [
    "**Reminder for my future self tracks in geojson and raster tiles in PostGIS db have different CRSs**"
   ]
  },
  {
   "cell_type": "code",
   "execution_count": 27,
   "metadata": {},
   "outputs": [],
   "source": [
    "connection = psycopg2.connect(\"dbname='dem_ontario_quebec' user='postgres' password='1111' host='localhost'\")\n",
    "cursor = connection.cursor()"
   ]
  },
  {
   "cell_type": "code",
   "execution_count": 34,
   "metadata": {},
   "outputs": [],
   "source": [
    "tile_means = []\n",
    "for i in range(1, 55015):\n",
    "    cursor.execute(f\"\"\"\n",
    "    SELECT (stats).mean AS avg_elevation\n",
    "    FROM (SELECT rid, ST_SummaryStats(rast) AS stats FROM elevation WHERE rid = {i}) as subquery;\n",
    "    \"\"\")\n",
    "    tile_mean = cursor.fetchall()\n",
    "    tile_means.append(tile_mean)"
   ]
  },
  {
   "cell_type": "code",
   "execution_count": 52,
   "metadata": {},
   "outputs": [
    {
     "data": {
      "text/plain": [
       "[(434.369447277832,)]"
      ]
     },
     "execution_count": 52,
     "metadata": {},
     "output_type": "execute_result"
    }
   ],
   "source": [
    "tile_means[0]"
   ]
  },
  {
   "cell_type": "code",
   "execution_count": null,
   "metadata": {},
   "outputs": [],
   "source": [
    "\"\"\"\n",
    "SELECT \n",
    "  ST_UpperLeftX(rast) AS upper_left_x,\n",
    "  ST_UpperLeftY(rast) AS upper_left_y\n",
    "FROM \n",
    "  elevation\n",
    "WHERE \n",
    "  rid = 1;\n",
    "\"\"\""
   ]
  },
  {
   "cell_type": "markdown",
   "metadata": {},
   "source": [
    "**To be continued**"
   ]
  }
 ],
 "metadata": {
  "kernelspec": {
   "display_name": "sentinel_hub_env",
   "language": "python",
   "name": "python3"
  },
  "language_info": {
   "codemirror_mode": {
    "name": "ipython",
    "version": 3
   },
   "file_extension": ".py",
   "mimetype": "text/x-python",
   "name": "python",
   "nbconvert_exporter": "python",
   "pygments_lexer": "ipython3",
   "version": "3.11.8"
  }
 },
 "nbformat": 4,
 "nbformat_minor": 2
}
